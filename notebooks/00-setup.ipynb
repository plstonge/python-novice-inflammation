{
 "cells": [
  {
   "cell_type": "markdown",
   "metadata": {},
   "source": [
    "# Programming with Python\n",
    "## Lesson Setup\n",
    "1. Download and extract the material: https://github.com/swcarpentry/python-novice-inflammation/archive/gh-pages.zip\n",
    "```\n",
    "wget https://github.com/swcarpentry/python-novice-inflammation/archive/gh-pages.zip\n",
    "unzip gh-pages.zip\n",
    "```\n",
    "1. Go to folder: **python-novice-inflammation-gh-pages/notebooks**\n",
    "```\n",
    "cd python-novice-inflammation-gh-pages\n",
    "```\n",
    "1. Start the Jupyter Notebook\n",
    "```\n",
    "jupyter notebook\n",
    "```\n",
    "1. Click on folder `notebooks`\n",
    "1. Click on file `01-numpy.ipynb`"
   ]
  },
  {
   "cell_type": "code",
   "execution_count": null,
   "metadata": {
    "collapsed": true
   },
   "outputs": [],
   "source": []
  }
 ],
 "metadata": {
  "anaconda-cloud": {},
  "kernelspec": {
   "display_name": "Python [Root]",
   "language": "python",
   "name": "Python [Root]"
  },
  "language_info": {
   "codemirror_mode": {
    "name": "ipython",
    "version": 3
   },
   "file_extension": ".py",
   "mimetype": "text/x-python",
   "name": "python",
   "nbconvert_exporter": "python",
   "pygments_lexer": "ipython3",
   "version": "3.5.2"
  }
 },
 "nbformat": 4,
 "nbformat_minor": 0
}
